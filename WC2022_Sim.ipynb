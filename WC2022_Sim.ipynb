{
 "cells": [
  {
   "cell_type": "code",
   "execution_count": 1,
   "metadata": {},
   "outputs": [],
   "source": [
    "import FifaSimulationObjects as fifa_objects\n",
    "import pandas as pd\n",
    "import numpy as np\n",
    "import matplotlib.pyplot as plt\n",
    "\n",
    "remaining_teams = ['','']\n",
    "\n",
    "wc_teams_list = []\n",
    "\n",
    "worldcup_results_list = []\n",
    "\n",
    "num_replications = 100000"
   ]
  },
  {
   "cell_type": "code",
   "execution_count": 44,
   "metadata": {},
   "outputs": [],
   "source": [
    "def pick_remaining_teams(remaining_teams):\n",
    "    t1 = fifa_objects.Team('',0,0,'A',1)\n",
    "    t2 = fifa_objects.Team('',0,0,'A',1)\n",
    "    t3 = fifa_objects.Team('',0,0,'A',1)\n",
    "    return (t1,t2,t3)"
   ]
  },
  {
   "cell_type": "code",
   "execution_count": 45,
   "metadata": {},
   "outputs": [],
   "source": [
    "def create_team_objects(t1,t2,t3):\n",
    "    #load csv of teams\n",
    "    #create team objects\n",
    "    #save the team objects in wc_teams_list\n",
    "    return"
   ]
  },
  {
   "cell_type": "code",
   "execution_count": 46,
   "metadata": {},
   "outputs": [],
   "source": [
    "def generate_group_stage_games_list():\n",
    "    games_list = []\n",
    "    #use the wc_teams_list to create the group stage games\n",
    "    #create game objects for each group based on the teams list and the business rules\n",
    "    #Match Day 1 -> (1,2), (3,4)\n",
    "    #Match Day 2 -> (1,3), (2,4)\n",
    "    #Match Day 3 -> (1,4), (2,3)\n",
    "    #returns the list of game objects games_list\n",
    "    return games_list"
   ]
  },
  {
   "cell_type": "code",
   "execution_count": 47,
   "metadata": {},
   "outputs": [],
   "source": [
    "def get_game_result(game):\n",
    "    #simulate the fuck out of the game\n",
    "    return fifa_objects.GameResult(game,1,0,2,4,0,0)"
   ]
  },
  {
   "cell_type": "code",
   "execution_count": 48,
   "metadata": {},
   "outputs": [],
   "source": [
    "def simulate_group_stage_games(games_list):\n",
    "    game_results_list = []\n",
    "    for game in games_list:\n",
    "        game_results_list.append(get_game_result(game))\n",
    "    return game_results_list"
   ]
  },
  {
   "cell_type": "code",
   "execution_count": 49,
   "metadata": {},
   "outputs": [],
   "source": [
    "def generate_bracket_games(qualified_teams):\n",
    "    #create the bracket\n",
    "    bracket_games_list = []\n",
    "\n",
    "    return bracket_games_list\n",
    "\n",
    "def get_group_qualified_teams(game_results_list):\n",
    "    #calculate group_winners based on the business rules\n",
    "    #Points\n",
    "    #Goals Difference\n",
    "    #Goals For\n",
    "    #H2H points (can be 2 teams or more teams)\n",
    "    #Fair Play\n",
    "    qualified_teams = []\n",
    "    bracket_games = generate_bracket_games(qualified_teams)\n",
    "    return bracket_games"
   ]
  },
  {
   "cell_type": "code",
   "execution_count": 50,
   "metadata": {},
   "outputs": [],
   "source": [
    "def simulate_r16(bracket_games):\n",
    "    #simulate the r16\n",
    "    r16_res = get_game_result(bracket_games)\n",
    "    #return the results\n",
    "    return r16_res\n",
    "\n",
    "def simulate_quarter_final(r16_results):\n",
    "    #simulate the r8\n",
    "    r8_res = get_game_result(r16_results)\n",
    "    #return the results\n",
    "    return r8_res\n",
    "\n",
    "def simulate_semi_final(r8_results):\n",
    "    #simulate the r4\n",
    "    semi_results = get_game_result(r8_results)\n",
    "    #return the results\n",
    "    return semi_results\n",
    "\n",
    "def simulate_3rd_place(semi_results):\n",
    "    #simulate the semi_final\n",
    "    third_place_res = get_game_result(semi_results)\n",
    "    #return the results\n",
    "    return third_place_res\n",
    "\n",
    "def simulate_final(semi_results):\n",
    "    #simulate the final\n",
    "    final_res = get_game_result(semi_results)\n",
    "    #return the results\n",
    "    return final_res\n",
    "\n",
    "def get_winners_from_res(round_result):\n",
    "    winner_list = []\n",
    "    for game in round_result:\n",
    "        winner_list.append(game.winner)\n",
    "    return winner_list\n",
    "\n",
    "def save_results(final_res,third_place_res,quarter_final_res,r16_res,group_qualified_teams):\n",
    "    #save the results to a csv\n",
    "    winner = fifa_objects.Team('',0,0,'A',1)\n",
    "    runner_up = fifa_objects.Team('',0,0,'A',1)\n",
    "    third_place = fifa_objects.Team('',0,0,'A',1)\n",
    "    fourth_place = fifa_objects.Team('',0,0,'A',1)\n",
    "    r16_teams = get_winners_from_res(r16_res)\n",
    "    quarter_final_teams = get_winners_from_res(quarter_final_res)\n",
    "    worldcup_results_list.append(fifa_objects.WorldCupResults(winner,runner_up,third_place,fourth_place,quarter_final_teams,r16_teams))"
   ]
  },
  {
   "cell_type": "code",
   "execution_count": 51,
   "metadata": {},
   "outputs": [],
   "source": [
    "def run_a_worldcup():\n",
    "    #pick the remaining teams\n",
    "    rt = pick_remaining_teams(remaining_teams)\n",
    "    #create the team objects\n",
    "    create_team_objects(rt[0],rt[1],rt[2])\n",
    "    #generate the group stage games\n",
    "    games_list = generate_group_stage_games_list()\n",
    "    #simulate the group stage games\n",
    "    game_results_list = simulate_group_stage_games(games_list)\n",
    "    #get the group qualified teams\n",
    "    qualified_teams = get_group_qualified_teams(game_results_list)\n",
    "    #simulate the r16\n",
    "    r16_res = simulate_r16(qualified_teams)\n",
    "    #simulate the quarter final\n",
    "    qf_res = simulate_quarter_final(r16_res)\n",
    "    #simulate the semi final\n",
    "    semi_results = simulate_semi_final(qf_res)\n",
    "    #simulate the 3rd place\n",
    "    third_place_res = simulate_3rd_place(semi_results)\n",
    "    #simulate the final\n",
    "    final_res = simulate_final(semi_results)\n",
    "    #save the results\n",
    "    #save_results(final_res,third_place_res,qf_res, r16_res)"
   ]
  },
  {
   "cell_type": "code",
   "execution_count": 52,
   "metadata": {},
   "outputs": [],
   "source": [
    "for i in range(num_replications):\n",
    "    run_a_worldcup()"
   ]
  }
 ],
 "metadata": {
  "interpreter": {
   "hash": "a59f9fdc9d6e9f3dc8048ca9102760115e9f2281d6250c7f7ebbccc2210280f3"
  },
  "kernelspec": {
   "display_name": "Python 3.10.2 ('bams503')",
   "language": "python",
   "name": "python3"
  },
  "language_info": {
   "codemirror_mode": {
    "name": "ipython",
    "version": 3
   },
   "file_extension": ".py",
   "mimetype": "text/x-python",
   "name": "python",
   "nbconvert_exporter": "python",
   "pygments_lexer": "ipython3",
   "version": "3.9.7"
  },
  "orig_nbformat": 4
 },
 "nbformat": 4,
 "nbformat_minor": 2
}
